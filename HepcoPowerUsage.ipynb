{
 "cells": [
  {
   "cell_type": "markdown",
   "metadata": {},
   "source": [
    "## ほくでん 過去の電力使用状況データ\n",
    "\n",
    "「過去の電力使用状況データのダウンロード」ページから取得したzipファイルを展開し、CSVファイルからデータを取り出して連結します。\n",
    "\n",
    "http://denkiyoho.hepco.co.jp/area_download.html"
   ]
  },
  {
   "cell_type": "markdown",
   "metadata": {},
   "source": [
    "### zipファイルを展開する"
   ]
  },
  {
   "cell_type": "code",
   "execution_count": 233,
   "metadata": {
    "scrolled": true
   },
   "outputs": [],
   "source": [
    "import zipfile\n",
    "import os\n",
    "\n",
    "# カレントディレクトリの下にディレクトリを用意する\n",
    "zip_directory = '_zip'\n",
    "csv_directory = '_csv'\n",
    "\n",
    "path = os.path.join(os.getcwd(), zip_directory)\n",
    "\n",
    "zip_file = os.path.join(path, \"201807-09_hokkaido_denkiyohou.zip\")\n",
    "\n",
    "path = os.path.join(os.getcwd(), csv_directory)\n",
    "if not os.path.exists(path):\n",
    "    os.mkdir(path)\n",
    "\n",
    "with zipfile.ZipFile(zip_file) as myzip:\n",
    "    myzip.extractall(csv_directory)"
   ]
  },
  {
   "cell_type": "markdown",
   "metadata": {},
   "source": [
    "### CSVファイルをリストにする"
   ]
  },
  {
   "cell_type": "code",
   "execution_count": 234,
   "metadata": {},
   "outputs": [
    {
     "name": "stdout",
     "output_type": "stream",
     "text": [
      "69\n"
     ]
    }
   ],
   "source": [
    "path = os.path.join(os.getcwd(), csv_directory)\n",
    "\n",
    "csv_files = [os.path.join(path, filename) for filename in os.listdir(path)]\n",
    "\n",
    "print(len(csv_files))"
   ]
  },
  {
   "cell_type": "markdown",
   "metadata": {},
   "source": [
    "### CSVファイルを読み込んでDataFrameを連結する"
   ]
  },
  {
   "cell_type": "code",
   "execution_count": 235,
   "metadata": {},
   "outputs": [
    {
     "data": {
      "text/html": [
       "<div>\n",
       "<style scoped>\n",
       "    .dataframe tbody tr th:only-of-type {\n",
       "        vertical-align: middle;\n",
       "    }\n",
       "\n",
       "    .dataframe tbody tr th {\n",
       "        vertical-align: top;\n",
       "    }\n",
       "\n",
       "    .dataframe thead th {\n",
       "        text-align: right;\n",
       "    }\n",
       "</style>\n",
       "<table border=\"1\" class=\"dataframe\">\n",
       "  <thead>\n",
       "    <tr style=\"text-align: right;\">\n",
       "      <th></th>\n",
       "      <th>DATE</th>\n",
       "      <th>TIME</th>\n",
       "      <th>Power</th>\n",
       "      <th>Prediction</th>\n",
       "      <th>Ratio</th>\n",
       "    </tr>\n",
       "  </thead>\n",
       "  <tbody>\n",
       "    <tr>\n",
       "      <th>0</th>\n",
       "      <td>2018/7/1</td>\n",
       "      <td>0:00</td>\n",
       "      <td>271.0</td>\n",
       "      <td>279</td>\n",
       "      <td>67.0</td>\n",
       "    </tr>\n",
       "    <tr>\n",
       "      <th>1</th>\n",
       "      <td>2018/7/1</td>\n",
       "      <td>1:00</td>\n",
       "      <td>273.0</td>\n",
       "      <td>279</td>\n",
       "      <td>67.0</td>\n",
       "    </tr>\n",
       "    <tr>\n",
       "      <th>2</th>\n",
       "      <td>2018/7/1</td>\n",
       "      <td>2:00</td>\n",
       "      <td>279.0</td>\n",
       "      <td>294</td>\n",
       "      <td>69.0</td>\n",
       "    </tr>\n",
       "    <tr>\n",
       "      <th>3</th>\n",
       "      <td>2018/7/1</td>\n",
       "      <td>3:00</td>\n",
       "      <td>288.0</td>\n",
       "      <td>299</td>\n",
       "      <td>71.0</td>\n",
       "    </tr>\n",
       "    <tr>\n",
       "      <th>4</th>\n",
       "      <td>2018/7/1</td>\n",
       "      <td>4:00</td>\n",
       "      <td>281.0</td>\n",
       "      <td>295</td>\n",
       "      <td>70.0</td>\n",
       "    </tr>\n",
       "  </tbody>\n",
       "</table>\n",
       "</div>"
      ],
      "text/plain": [
       "       DATE  TIME  Power  Prediction  Ratio\n",
       "0  2018/7/1  0:00  271.0         279   67.0\n",
       "1  2018/7/1  1:00  273.0         279   67.0\n",
       "2  2018/7/1  2:00  279.0         294   69.0\n",
       "3  2018/7/1  3:00  288.0         299   71.0\n",
       "4  2018/7/1  4:00  281.0         295   70.0"
      ]
     },
     "execution_count": 235,
     "metadata": {},
     "output_type": "execute_result"
    }
   ],
   "source": [
    "import pandas as pd\n",
    "\n",
    "data = [pd.read_csv(file, encoding='shift_jis', skiprows=7, nrows=24, usecols=[0,1,2,3,4]) for file in csv_files]\n",
    "\n",
    "df = pd.concat(data)\n",
    "\n",
    "df.columns = ['DATE', 'TIME', 'Power', 'Prediction', 'Ratio']\n",
    "\n",
    "df.head()"
   ]
  },
  {
   "cell_type": "code",
   "execution_count": 236,
   "metadata": {},
   "outputs": [
    {
     "data": {
      "text/html": [
       "<div>\n",
       "<style scoped>\n",
       "    .dataframe tbody tr th:only-of-type {\n",
       "        vertical-align: middle;\n",
       "    }\n",
       "\n",
       "    .dataframe tbody tr th {\n",
       "        vertical-align: top;\n",
       "    }\n",
       "\n",
       "    .dataframe thead th {\n",
       "        text-align: right;\n",
       "    }\n",
       "</style>\n",
       "<table border=\"1\" class=\"dataframe\">\n",
       "  <thead>\n",
       "    <tr style=\"text-align: right;\">\n",
       "      <th></th>\n",
       "      <th>DATE</th>\n",
       "      <th>TIME</th>\n",
       "      <th>Power</th>\n",
       "      <th>Prediction</th>\n",
       "      <th>Ratio</th>\n",
       "    </tr>\n",
       "  </thead>\n",
       "  <tbody>\n",
       "    <tr>\n",
       "      <th>19</th>\n",
       "      <td>2018/9/7</td>\n",
       "      <td>19:00</td>\n",
       "      <td>0.0</td>\n",
       "      <td>0</td>\n",
       "      <td>0.0</td>\n",
       "    </tr>\n",
       "    <tr>\n",
       "      <th>20</th>\n",
       "      <td>2018/9/7</td>\n",
       "      <td>20:00</td>\n",
       "      <td>0.0</td>\n",
       "      <td>0</td>\n",
       "      <td>0.0</td>\n",
       "    </tr>\n",
       "    <tr>\n",
       "      <th>21</th>\n",
       "      <td>2018/9/7</td>\n",
       "      <td>21:00</td>\n",
       "      <td>0.0</td>\n",
       "      <td>0</td>\n",
       "      <td>0.0</td>\n",
       "    </tr>\n",
       "    <tr>\n",
       "      <th>22</th>\n",
       "      <td>2018/9/7</td>\n",
       "      <td>22:00</td>\n",
       "      <td>0.0</td>\n",
       "      <td>0</td>\n",
       "      <td>0.0</td>\n",
       "    </tr>\n",
       "    <tr>\n",
       "      <th>23</th>\n",
       "      <td>2018/9/7</td>\n",
       "      <td>23:00</td>\n",
       "      <td>0.0</td>\n",
       "      <td>0</td>\n",
       "      <td>0.0</td>\n",
       "    </tr>\n",
       "  </tbody>\n",
       "</table>\n",
       "</div>"
      ],
      "text/plain": [
       "        DATE   TIME  Power  Prediction  Ratio\n",
       "19  2018/9/7  19:00    0.0           0    0.0\n",
       "20  2018/9/7  20:00    0.0           0    0.0\n",
       "21  2018/9/7  21:00    0.0           0    0.0\n",
       "22  2018/9/7  22:00    0.0           0    0.0\n",
       "23  2018/9/7  23:00    0.0           0    0.0"
      ]
     },
     "execution_count": 236,
     "metadata": {},
     "output_type": "execute_result"
    }
   ],
   "source": [
    "df.tail()"
   ]
  },
  {
   "cell_type": "markdown",
   "metadata": {},
   "source": [
    "### DataFrameをCSVファイルに書き出す"
   ]
  },
  {
   "cell_type": "code",
   "execution_count": 98,
   "metadata": {},
   "outputs": [],
   "source": [
    "data_directory = 'data'\n",
    "\n",
    "path = os.path.join(os.getcwd(), data_directory)\n",
    "if not os.path.exists(path):\n",
    "    os.mkdir(path)\n",
    "\n",
    "csv_file = os.path.join(path, '201807-09_hokkaido_denki.csv')\n",
    "\n",
    "df.to_csv(csv_file, encoding='shift_jis', index=False)"
   ]
  },
  {
   "cell_type": "markdown",
   "metadata": {},
   "source": [
    "### indexをdatetimeに変換する"
   ]
  },
  {
   "cell_type": "code",
   "execution_count": 101,
   "metadata": {},
   "outputs": [],
   "source": [
    "df['DateTime'] = pd.to_datetime(df['DATE'] +' ' +df['TIME'])\n",
    "df.set_index('DateTime', inplace=True)"
   ]
  },
  {
   "cell_type": "markdown",
   "metadata": {},
   "source": [
    "### 使用電力実績のプロット"
   ]
  },
  {
   "cell_type": "code",
   "execution_count": 177,
   "metadata": {},
   "outputs": [],
   "source": [
    "import matplotlib.pyplot as plt\n",
    "%matplotlib inline\n",
    "\n",
    "import seaborn as sns\n",
    "sns.set(font='IPAexMincho') # フォントを指定する"
   ]
  },
  {
   "cell_type": "code",
   "execution_count": 228,
   "metadata": {},
   "outputs": [
    {
     "data": {
      "image/png": "[encoded data removed]",
      "text/plain": [
       "<Figure size 720x288 with 1 Axes>"
      ]
     },
     "metadata": {},
     "output_type": "display_data"
    }
   ],
   "source": [
    "fig, ax = plt.subplots(1,1, figsize=(10,4))\n",
    "fig.subplots_adjust(bottom=0.25, left=0.08, right=0.95)\n",
    "\n",
    "df.loc[:, ['Power']].plot(ax=ax, label=\"電力使用量\")\n",
    "\n",
    "plt.xlabel(\"日時\", fontproperties=fp_ipag)\n",
    "plt.title(\"北海道 使用電力量\")\n",
    "\n",
    "plt.legend()\n",
    "plt.show()\n",
    "\n",
    "fig.savefig(\"images/Hokkaido_Power_Usage.png\")"
   ]
  },
  {
   "cell_type": "code",
   "execution_count": 170,
   "metadata": {},
   "outputs": [],
   "source": [
    "# 日本語フォントの設定\n",
    "from matplotlib.font_manager import FontProperties\n",
    "\n",
    "# ローカルの環境に合わせてフォントを指定すること\n",
    "fp_ipag = FontProperties(fname='c:\\\\windows\\\\fonts\\\\ipaexg.ttf', size=12) #IPAGothic"
   ]
  },
  {
   "cell_type": "code",
   "execution_count": 216,
   "metadata": {},
   "outputs": [
    {
     "data": {
      "image/png": "[encoded data removed]",
      "text/plain": [
       "<Figure size 720x288 with 1 Axes>"
      ]
     },
     "metadata": {},
     "output_type": "display_data"
    }
   ],
   "source": [
    "from datetime import datetime, timedelta\n",
    "\n",
    "# 8月30日以降のデータをプロット\n",
    "day = datetime(2018, 8, 30, 0, 0)\n",
    "\n",
    "fig, ax = plt.subplots(1,1, figsize=(10,4))\n",
    "fig.subplots_adjust(bottom=0.25, left=0.08, right=0.95)\n",
    "\n",
    "df.loc[day:, 'Power'].plot(ax=ax, label='電力使用量')\n",
    "\n",
    "df.loc[day:, 'Prediction'].plot(ls='--', label='予測値')\n",
    "\n",
    "plt.xlabel(\"日時\", fontproperties=fp_ipag)\n",
    "\n",
    "plt.title(\"北海道 電力使用量および予測値\", fontproperties=fp_ipag)\n",
    "\n",
    "plt.legend(prop=fp_ipag)\n",
    "\n",
    "plt.show()\n",
    "\n",
    "fig.savefig(\"images/Hokkaido_Power_Usage_Prediction.png\")"
   ]
  },
  {
   "cell_type": "markdown",
   "metadata": {},
   "source": [
    "### dataフォルダのcsvファイルを読み込む"
   ]
  },
  {
   "cell_type": "code",
   "execution_count": 207,
   "metadata": {},
   "outputs": [
    {
     "data": {
      "text/html": [
       "<div>\n",
       "<style scoped>\n",
       "    .dataframe tbody tr th:only-of-type {\n",
       "        vertical-align: middle;\n",
       "    }\n",
       "\n",
       "    .dataframe tbody tr th {\n",
       "        vertical-align: top;\n",
       "    }\n",
       "\n",
       "    .dataframe thead th {\n",
       "        text-align: right;\n",
       "    }\n",
       "</style>\n",
       "<table border=\"1\" class=\"dataframe\">\n",
       "  <thead>\n",
       "    <tr style=\"text-align: right;\">\n",
       "      <th></th>\n",
       "      <th>DATE</th>\n",
       "      <th>TIME</th>\n",
       "      <th>Power</th>\n",
       "      <th>Prediction</th>\n",
       "      <th>Ratio</th>\n",
       "    </tr>\n",
       "    <tr>\n",
       "      <th>DateTime</th>\n",
       "      <th></th>\n",
       "      <th></th>\n",
       "      <th></th>\n",
       "      <th></th>\n",
       "      <th></th>\n",
       "    </tr>\n",
       "  </thead>\n",
       "  <tbody>\n",
       "    <tr>\n",
       "      <th>2018-09-06 19:00:00</th>\n",
       "      <td>2018/9/6</td>\n",
       "      <td>19:00</td>\n",
       "      <td>56.0</td>\n",
       "      <td>360</td>\n",
       "      <td>12.0</td>\n",
       "    </tr>\n",
       "    <tr>\n",
       "      <th>2018-09-06 20:00:00</th>\n",
       "      <td>2018/9/6</td>\n",
       "      <td>20:00</td>\n",
       "      <td>64.0</td>\n",
       "      <td>336</td>\n",
       "      <td>14.0</td>\n",
       "    </tr>\n",
       "    <tr>\n",
       "      <th>2018-09-06 21:00:00</th>\n",
       "      <td>2018/9/6</td>\n",
       "      <td>21:00</td>\n",
       "      <td>69.0</td>\n",
       "      <td>319</td>\n",
       "      <td>15.0</td>\n",
       "    </tr>\n",
       "    <tr>\n",
       "      <th>2018-09-06 22:00:00</th>\n",
       "      <td>2018/9/6</td>\n",
       "      <td>22:00</td>\n",
       "      <td>68.0</td>\n",
       "      <td>303</td>\n",
       "      <td>15.0</td>\n",
       "    </tr>\n",
       "    <tr>\n",
       "      <th>2018-09-06 23:00:00</th>\n",
       "      <td>2018/9/6</td>\n",
       "      <td>23:00</td>\n",
       "      <td>75.0</td>\n",
       "      <td>288</td>\n",
       "      <td>17.0</td>\n",
       "    </tr>\n",
       "  </tbody>\n",
       "</table>\n",
       "</div>"
      ],
      "text/plain": [
       "                         DATE   TIME  Power  Prediction  Ratio\n",
       "DateTime                                                      \n",
       "2018-09-06 19:00:00  2018/9/6  19:00   56.0         360   12.0\n",
       "2018-09-06 20:00:00  2018/9/6  20:00   64.0         336   14.0\n",
       "2018-09-06 21:00:00  2018/9/6  21:00   69.0         319   15.0\n",
       "2018-09-06 22:00:00  2018/9/6  22:00   68.0         303   15.0\n",
       "2018-09-06 23:00:00  2018/9/6  23:00   75.0         288   17.0"
      ]
     },
     "execution_count": 207,
     "metadata": {},
     "output_type": "execute_result"
    }
   ],
   "source": [
    "import pandas as pd\n",
    "\n",
    "df = pd.concat( [pd.read_csv(os.path.join(\"data\", file), encoding='shift_jis') for file in \n",
    "os.listdir(\"data\")])\n",
    "\n",
    "df['DateTime'] = pd.to_datetime(df['DATE'] +' ' +df['TIME'])\n",
    "df.set_index('DateTime', inplace=True)\n",
    "\n",
    "df.fillna(0, inplace=True)\n",
    "df.tail()"
   ]
  }
 ],
 "metadata": {
  "kernelspec": {
   "display_name": "Python 3",
   "language": "python",
   "name": "python3"
  },
  "language_info": {
   "codemirror_mode": {
    "name": "ipython",
    "version": 3
   },
   "file_extension": ".py",
   "mimetype": "text/x-python",
   "name": "python",
   "nbconvert_exporter": "python",
   "pygments_lexer": "ipython3",
   "version": "3.7.0"
  }
 },
 "nbformat": 4,
 "nbformat_minor": 2
}
